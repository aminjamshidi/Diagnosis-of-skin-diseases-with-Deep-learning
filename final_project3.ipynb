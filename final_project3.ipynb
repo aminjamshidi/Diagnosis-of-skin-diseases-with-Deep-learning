{
 "cells": [
  {
   "cell_type": "markdown",
   "id": "1fe1234c",
   "metadata": {},
   "source": [
    "# loading and preparing data"
   ]
  },
  {
   "cell_type": "code",
   "execution_count": 96,
   "id": "7448fec8",
   "metadata": {},
   "outputs": [],
   "source": [
    "import matplotlib.pyplot as plt\n",
    "import numpy as np\n",
    "import pandas as pd\n",
    "import os\n",
    "from glob import glob\n",
    "from PIL import Image\n",
    "from sklearn.preprocessing import LabelEncoder"
   ]
  },
  {
   "cell_type": "code",
   "execution_count": 97,
   "id": "44acf8ee",
   "metadata": {},
   "outputs": [],
   "source": [
    "size_img=32"
   ]
  },
  {
   "cell_type": "code",
   "execution_count": 98,
   "id": "88c9d236",
   "metadata": {},
   "outputs": [],
   "source": [
    "skin_df=pd.read_csv('HAM10000_metadata.csv')"
   ]
  },
  {
   "cell_type": "code",
   "execution_count": 99,
   "id": "e94462a1",
   "metadata": {},
   "outputs": [
    {
     "name": "stdout",
     "output_type": "stream",
     "text": [
      "['akiec', 'bcc', 'bkl', 'df', 'mel', 'nv', 'vasc']\n",
      "        lesion_id      image_id     dx    dx_type   age     sex  \\\n",
      "7118  HAM_0006516  ISIC_0033315     nv      histo  35.0  female   \n",
      "8885  HAM_0003958  ISIC_0029554     nv      histo  40.0    male   \n",
      "7557  HAM_0007415  ISIC_0032515     nv      histo  35.0  female   \n",
      "1107  HAM_0007051  ISIC_0031002     df      histo  65.0    male   \n",
      "9707  HAM_0005931  ISIC_0031191  akiec      histo  60.0    male   \n",
      "2635  HAM_0004536  ISIC_0030314    bcc      histo  40.0  female   \n",
      "1808  HAM_0006540  ISIC_0033344    mel      histo  70.0  female   \n",
      "4978  HAM_0002857  ISIC_0024528     nv  follow_up  25.0  female   \n",
      "8738  HAM_0001764  ISIC_0032251     nv      histo  40.0  female   \n",
      "1314  HAM_0006908  ISIC_0032450    mel      histo  70.0    male   \n",
      "\n",
      "         localization  label  \n",
      "7118            trunk      5  \n",
      "8885            chest      5  \n",
      "7557  lower extremity      5  \n",
      "1107  upper extremity      3  \n",
      "9707  lower extremity      0  \n",
      "2635             back      1  \n",
      "1808             face      4  \n",
      "4978  upper extremity      5  \n",
      "8738  lower extremity      5  \n",
      "1314             back      4  \n"
     ]
    }
   ],
   "source": [
    "le = LabelEncoder()\n",
    "le.fit(skin_df['dx'])\n",
    "LabelEncoder()\n",
    "print(list(le.classes_))\n",
    " \n",
    "skin_df['label'] = le.transform(skin_df[\"dx\"]) \n",
    "print(skin_df.sample(10))"
   ]
  },
  {
   "cell_type": "code",
   "execution_count": 100,
   "id": "c4084f89",
   "metadata": {},
   "outputs": [],
   "source": [
    "from sklearn.utils import resample"
   ]
  },
  {
   "cell_type": "code",
   "execution_count": 101,
   "id": "b45beb5b",
   "metadata": {},
   "outputs": [
    {
     "name": "stdout",
     "output_type": "stream",
     "text": [
      "5    6705\n",
      "4    1113\n",
      "2    1099\n",
      "1     514\n",
      "0     327\n",
      "6     142\n",
      "3     115\n",
      "Name: label, dtype: int64\n"
     ]
    }
   ],
   "source": [
    "print(skin_df['label'].value_counts())"
   ]
  },
  {
   "cell_type": "code",
   "execution_count": 102,
   "id": "df739cb1",
   "metadata": {},
   "outputs": [],
   "source": [
    "df_0 = skin_df[skin_df['label'] == 0]\n",
    "df_1 = skin_df[skin_df['label'] == 1]\n",
    "df_2 = skin_df[skin_df['label'] == 2]\n",
    "df_3 = skin_df[skin_df['label'] == 3]\n",
    "df_4 = skin_df[skin_df['label'] == 4]\n",
    "df_5 = skin_df[skin_df['label'] == 5]\n",
    "df_6 = skin_df[skin_df['label'] == 6]"
   ]
  },
  {
   "cell_type": "code",
   "execution_count": 103,
   "id": "daee28ca",
   "metadata": {},
   "outputs": [],
   "source": [
    "skin_df=pd.concat([df_0, df_1,df_2, df_3,df_4, df_5, df_6])"
   ]
  },
  {
   "cell_type": "code",
   "execution_count": 104,
   "id": "9556e53d",
   "metadata": {},
   "outputs": [
    {
     "name": "stdout",
     "output_type": "stream",
     "text": [
      "5    6705\n",
      "4    1113\n",
      "2    1099\n",
      "1     514\n",
      "0     327\n",
      "6     142\n",
      "3     115\n",
      "Name: label, dtype: int64\n"
     ]
    }
   ],
   "source": [
    "print(skin_df['label'].value_counts())"
   ]
  },
  {
   "cell_type": "code",
   "execution_count": 105,
   "id": "53060bf9",
   "metadata": {},
   "outputs": [],
   "source": [
    "image_path = {os.path.splitext(os.path.basename(x))[0]: x\n",
    "                     for x in glob(os.path.join('', '*', '*.jpg'))}"
   ]
  },
  {
   "cell_type": "code",
   "execution_count": 106,
   "id": "d8433d8f",
   "metadata": {},
   "outputs": [],
   "source": [
    "skin_df['path'] = skin_df['image_id'].map(image_path.get)"
   ]
  },
  {
   "cell_type": "code",
   "execution_count": 107,
   "id": "55691665",
   "metadata": {},
   "outputs": [],
   "source": [
    "skin_df['image'] = skin_df['path'].map(lambda x: np.asarray(Image.open(x).resize((size_img,size_img))))"
   ]
  },
  {
   "cell_type": "code",
   "execution_count": 108,
   "id": "d6cceba9",
   "metadata": {},
   "outputs": [],
   "source": [
    "from keras.utils.np_utils import to_categorical\n",
    "from sklearn.model_selection import train_test_split"
   ]
  },
  {
   "cell_type": "code",
   "execution_count": 127,
   "id": "26e7dddf",
   "metadata": {},
   "outputs": [],
   "source": [
    "X = np.asarray(skin_df['image'].tolist())\n",
    "X = X/255\n",
    "Y=skin_df['label']\n",
    "Y_cat = to_categorical(Y, num_classes=7)\n",
    "x_train, x_test, y_train, y_test = train_test_split(X, Y_cat, test_size=0.25, random_state=42)"
   ]
  },
  {
   "cell_type": "code",
   "execution_count": 110,
   "id": "6fccb2b6",
   "metadata": {},
   "outputs": [],
   "source": [
    "df_0_balanced = resample(df_0, replace=True, n_samples=n_samples, random_state=42) \n",
    "df_1_balanced = resample(df_1, replace=True, n_samples=n_samples, random_state=42) \n",
    "df_2_balanced = resample(df_2, replace=True, n_samples=n_samples, random_state=42)\n",
    "df_3_balanced = resample(df_3, replace=True, n_samples=n_samples, random_state=42)\n",
    "df_4_balanced = resample(df_4, replace=True, n_samples=n_samples, random_state=42)\n",
    "df_5_balanced = resample(df_5, replace=True, n_samples=n_samples, random_state=42)\n",
    "df_6_balanced = resample(df_6, replace=True, n_samples=n_samples, random_state=42)"
   ]
  },
  {
   "cell_type": "code",
   "execution_count": 111,
   "id": "80469063",
   "metadata": {},
   "outputs": [],
   "source": [
    "skin_df_balanced = pd.concat([df_0_balanced, df_1_balanced, \n",
    "                              df_2_balanced, df_3_balanced, \n",
    "                              df_4_balanced, df_5_balanced, df_6_balanced])"
   ]
  },
  {
   "cell_type": "code",
   "execution_count": 112,
   "id": "261f1d8b",
   "metadata": {},
   "outputs": [
    {
     "name": "stdout",
     "output_type": "stream",
     "text": [
      "0    2000\n",
      "1    2000\n",
      "2    2000\n",
      "3    2000\n",
      "4    2000\n",
      "5    2000\n",
      "6    2000\n",
      "Name: label, dtype: int64\n"
     ]
    }
   ],
   "source": [
    "print(skin_df_balanced['label'].value_counts())"
   ]
  },
  {
   "cell_type": "code",
   "execution_count": 113,
   "id": "33f8bb87",
   "metadata": {},
   "outputs": [],
   "source": [
    "image_path = {os.path.splitext(os.path.basename(x))[0]: x\n",
    "                     for x in glob(os.path.join('', '*', '*.jpg'))}"
   ]
  },
  {
   "cell_type": "code",
   "execution_count": 114,
   "id": "597bb259",
   "metadata": {},
   "outputs": [],
   "source": [
    "skin_df_balanced['path'] = skin_df['image_id'].map(image_path.get)"
   ]
  },
  {
   "cell_type": "code",
   "execution_count": 115,
   "id": "e57442ca",
   "metadata": {},
   "outputs": [],
   "source": [
    "skin_df_balanced['image'] = skin_df_balanced['path'].map(lambda x: np.asarray(Image.open(x).resize((size_img,size_img))))"
   ]
  },
  {
   "cell_type": "code",
   "execution_count": 128,
   "id": "a5bc51c9",
   "metadata": {},
   "outputs": [],
   "source": [
    "X = np.asarray(skin_df_balanced['image'].tolist())\n",
    "X = X/255\n",
    "Y=skin_df_balanced['label']\n",
    "Y_cat = to_categorical(Y, num_classes=7)\n",
    "x_train=X\n",
    "y_train=Y_cat"
   ]
  },
  {
   "cell_type": "code",
   "execution_count": 117,
   "id": "26dc42e3",
   "metadata": {},
   "outputs": [],
   "source": [
    "from keras.models import Sequential\n",
    "from keras.layers import Dense, Dropout, Flatten, Conv2D, MaxPool2D,AveragePooling2D"
   ]
  },
  {
   "cell_type": "code",
   "execution_count": 118,
   "id": "49c32100",
   "metadata": {},
   "outputs": [],
   "source": [
    "del model"
   ]
  },
  {
   "cell_type": "code",
   "execution_count": 120,
   "id": "30e27efa",
   "metadata": {},
   "outputs": [
    {
     "name": "stdout",
     "output_type": "stream",
     "text": [
      "Model: \"sequential_5\"\n",
      "_________________________________________________________________\n",
      "Layer (type)                 Output Shape              Param #   \n",
      "=================================================================\n",
      "conv2d_12 (Conv2D)           (None, 30, 30, 256)       7168      \n",
      "_________________________________________________________________\n",
      "average_pooling2d (AveragePo (None, 15, 15, 256)       0         \n",
      "_________________________________________________________________\n",
      "dropout_12 (Dropout)         (None, 15, 15, 256)       0         \n",
      "_________________________________________________________________\n",
      "conv2d_13 (Conv2D)           (None, 13, 13, 128)       295040    \n",
      "_________________________________________________________________\n",
      "average_pooling2d_1 (Average (None, 6, 6, 128)         0         \n",
      "_________________________________________________________________\n",
      "dropout_13 (Dropout)         (None, 6, 6, 128)         0         \n",
      "_________________________________________________________________\n",
      "conv2d_14 (Conv2D)           (None, 4, 4, 64)          73792     \n",
      "_________________________________________________________________\n",
      "average_pooling2d_2 (Average (None, 2, 2, 64)          0         \n",
      "_________________________________________________________________\n",
      "dropout_14 (Dropout)         (None, 2, 2, 64)          0         \n",
      "_________________________________________________________________\n",
      "flatten_4 (Flatten)          (None, 256)               0         \n",
      "_________________________________________________________________\n",
      "dense_8 (Dense)              (None, 32)                8224      \n",
      "_________________________________________________________________\n",
      "dense_9 (Dense)              (None, 7)                 231       \n",
      "=================================================================\n",
      "Total params: 384,455\n",
      "Trainable params: 384,455\n",
      "Non-trainable params: 0\n",
      "_________________________________________________________________\n"
     ]
    }
   ],
   "source": [
    "model = Sequential()\n",
    "model.add(Conv2D(256, (3, 3), activation=\"relu\", input_shape=(size_img, size_img, 3)))\n",
    "#model.add(MaxPool2D(pool_size=(2, 2))) \n",
    "#model.add(AveragePooling2D(pool_size=(2, 2))) \n",
    "model.add(Dropout(0.3))\n",
    "\n",
    "model.add(Conv2D(128, (3, 3),activation='relu'))\n",
    "model.add(MaxPool2D(pool_size=(2, 2))) \n",
    "#model.add(AveragePooling2D(pool_size=(2, 2))) \n",
    "model.add(Dropout(0.3))\n",
    "\n",
    "model.add(Conv2D(64, (3, 3),activation='relu'))\n",
    "#model.add(AveragePooling2D(pool_size=(2, 2))) \n",
    "model.add(MaxPool2D(pool_size=(2, 2)))  \n",
    "model.add(Dropout(0.3))\n",
    "model.add(Flatten())\n",
    "\n",
    "model.add(Dense(32))\n",
    "model.add(Dense(7, activation='softmax'))\n",
    "model.summary()\n"
   ]
  },
  {
   "cell_type": "code",
   "execution_count": 121,
   "id": "d009651a",
   "metadata": {},
   "outputs": [],
   "source": [
    "model.compile(loss='categorical_crossentropy', optimizer='Adam', metrics=['acc'])"
   ]
  },
  {
   "cell_type": "code",
   "execution_count": 122,
   "id": "a5fe5347",
   "metadata": {},
   "outputs": [
    {
     "name": "stdout",
     "output_type": "stream",
     "text": [
      "Epoch 1/10\n",
      "875/875 [==============================] - 37s 42ms/step - loss: 1.6654 - acc: 0.3140 - val_loss: 1.3480 - val_acc: 0.4133\n",
      "Epoch 2/10\n",
      "875/875 [==============================] - 48s 55ms/step - loss: 1.3566 - acc: 0.4606 - val_loss: 1.3093 - val_acc: 0.4960\n",
      "Epoch 3/10\n",
      "875/875 [==============================] - 51s 58ms/step - loss: 1.2534 - acc: 0.5024 - val_loss: 1.3296 - val_acc: 0.4932\n",
      "Epoch 4/10\n",
      "875/875 [==============================] - 51s 58ms/step - loss: 1.1914 - acc: 0.5312 - val_loss: 1.1284 - val_acc: 0.5543\n",
      "Epoch 5/10\n",
      "875/875 [==============================] - 51s 58ms/step - loss: 1.1280 - acc: 0.5571 - val_loss: 0.9775 - val_acc: 0.6062\n",
      "Epoch 6/10\n",
      "875/875 [==============================] - 51s 59ms/step - loss: 1.0641 - acc: 0.5901 - val_loss: 1.0341 - val_acc: 0.5667\n",
      "Epoch 7/10\n",
      "875/875 [==============================] - 51s 58ms/step - loss: 1.0032 - acc: 0.6131 - val_loss: 0.8785 - val_acc: 0.6330\n",
      "Epoch 8/10\n",
      "875/875 [==============================] - 51s 58ms/step - loss: 0.9654 - acc: 0.6285 - val_loss: 0.9302 - val_acc: 0.6050\n",
      "Epoch 9/10\n",
      "875/875 [==============================] - 51s 58ms/step - loss: 0.9047 - acc: 0.6554 - val_loss: 0.9087 - val_acc: 0.6226\n",
      "Epoch 10/10\n",
      "875/875 [==============================] - 50s 57ms/step - loss: 0.8689 - acc: 0.6689 - val_loss: 0.9640 - val_acc: 0.6298\n"
     ]
    }
   ],
   "source": [
    "history = model.fit(\n",
    "    x_train, y_train,\n",
    "    epochs=10,\n",
    "    batch_size = 16,\n",
    "    validation_data=(x_test, y_test))"
   ]
  },
  {
   "cell_type": "code",
   "execution_count": 123,
   "id": "5b11e56d",
   "metadata": {},
   "outputs": [
    {
     "data": {
      "image/png": "[encoded data removed]",
      "text/plain": [
       "<Figure size 432x288 with 1 Axes>"
      ]
     },
     "metadata": {
      "needs_background": "light"
     },
     "output_type": "display_data"
    }
   ],
   "source": [
    "plt.plot(history.history['loss'],'b-')\n",
    "plt.plot(history.history['val_loss'],'r-')\n",
    "plt.show()"
   ]
  },
  {
   "cell_type": "code",
   "execution_count": 124,
   "id": "d5ecfae6",
   "metadata": {},
   "outputs": [
    {
     "data": {
      "image/png": "[encoded data removed]",
      "text/plain": [
       "<Figure size 432x288 with 1 Axes>"
      ]
     },
     "metadata": {
      "needs_background": "light"
     },
     "output_type": "display_data"
    }
   ],
   "source": [
    "plt.plot(history.history['acc'],'b-')\n",
    "plt.plot(history.history['val_acc'],'r-')\n",
    "plt.show()"
   ]
  },
  {
   "cell_type": "code",
   "execution_count": 125,
   "id": "46bbdeed",
   "metadata": {},
   "outputs": [
    {
     "data": {
      "text/plain": [
       "0.6329872012138367"
      ]
     },
     "execution_count": 125,
     "metadata": {},
     "output_type": "execute_result"
    }
   ],
   "source": [
    "max(history.history['val_acc'])"
   ]
  },
  {
   "cell_type": "code",
   "execution_count": 126,
   "id": "e2ed7b90",
   "metadata": {},
   "outputs": [
    {
     "data": {
      "text/plain": [
       "0.6689285635948181"
      ]
     },
     "execution_count": 126,
     "metadata": {},
     "output_type": "execute_result"
    }
   ],
   "source": [
    "max(history.history['acc'])"
   ]
  },
  {
   "cell_type": "code",
   "execution_count": 65,
   "id": "4a5dbad7",
   "metadata": {},
   "outputs": [],
   "source": [
    "import tensorflow as tf\n",
    "from tensorflow.math import confusion_matrix "
   ]
  },
  {
   "cell_type": "code",
   "execution_count": 66,
   "id": "02752890",
   "metadata": {},
   "outputs": [],
   "source": [
    "u=model.predict(x_test)\n",
    "index = np.argmax(u, axis=-1)\n",
    "y=np.argmax(y_test, axis=-1)"
   ]
  },
  {
   "cell_type": "code",
   "execution_count": 67,
   "id": "098b1575",
   "metadata": {},
   "outputs": [
    {
     "data": {
      "text/plain": [
       "<tf.Tensor: shape=(7, 7), dtype=int32, numpy=\n",
       "array([[  85,    1,    0,    0,    0,    0,    0],\n",
       "       [   9,  129,    1,    2,    0,    0,    1],\n",
       "       [  48,   27,  164,    7,   20,   10,    2],\n",
       "       [   0,    0,    0,   23,    0,    0,    0],\n",
       "       [  25,    6,   30,    1,  206,   15,    2],\n",
       "       [  73,   73,  115,   15,  286, 1077,   10],\n",
       "       [   0,    0,    0,    0,    0,    0,   41]])>"
      ]
     },
     "execution_count": 67,
     "metadata": {},
     "output_type": "execute_result"
    }
   ],
   "source": [
    "cm=tf.math.confusion_matrix(y,index)\n",
    "cm"
   ]
  },
  {
   "cell_type": "code",
   "execution_count": 68,
   "id": "d72441a7",
   "metadata": {},
   "outputs": [
    {
     "data": {
      "image/png": "[encoded data removed]",
      "text/plain": [
       "<Figure size 504x504 with 2 Axes>"
      ]
     },
     "metadata": {
      "needs_background": "light"
     },
     "output_type": "display_data"
    }
   ],
   "source": [
    "import seaborn as sns\n",
    "labels=['akiec', 'bcc', 'bkl', 'df', 'mel', 'nv', 'vasc']\n",
    "figure = plt.figure(figsize=(7, 7))\n",
    "sns.heatmap(cm, annot=True,cmap=plt.cm.Blues, xticklabels=labels, yticklabels=labels)\n",
    "plt.tight_layout()\n",
    "plt.ylabel('True label')\n",
    "plt.xlabel('Predicted label')\n",
    "plt.show()"
   ]
  },
  {
   "cell_type": "code",
   "execution_count": 69,
   "id": "909fa43f",
   "metadata": {},
   "outputs": [],
   "source": [
    "colums=np.sum(cm,axis=0)\n",
    "\n",
    "rows=np.sum(cm,axis=1)\n",
    "\n",
    "tp=np.array([cm[0][0],cm[1][1],cm[2][2],cm[3][3],cm[4][4],cm[5][5],cm[6][6]])\n",
    "\n",
    "\n",
    "recalls=tp/colums\n",
    "precisions=tp/rows"
   ]
  },
  {
   "cell_type": "code",
   "execution_count": 70,
   "id": "583b2116",
   "metadata": {},
   "outputs": [
    {
     "data": {
      "text/plain": [
       "array([0.35416667, 0.54661017, 0.52903226, 0.47916667, 0.40234375,\n",
       "       0.97731397, 0.73214286])"
      ]
     },
     "execution_count": 70,
     "metadata": {},
     "output_type": "execute_result"
    }
   ],
   "source": [
    "recalls"
   ]
  },
  {
   "cell_type": "code",
   "execution_count": 71,
   "id": "5d9f2009",
   "metadata": {},
   "outputs": [
    {
     "data": {
      "text/plain": [
       "array([0.98837209, 0.9084507 , 0.58992806, 1.        , 0.72280702,\n",
       "       0.6531231 , 1.        ])"
      ]
     },
     "execution_count": 71,
     "metadata": {},
     "output_type": "execute_result"
    }
   ],
   "source": [
    "precisions"
   ]
  },
  {
   "cell_type": "code",
   "execution_count": 72,
   "id": "77d93199",
   "metadata": {},
   "outputs": [
    {
     "data": {
      "text/plain": [
       "array([0.52147239, 0.68253968, 0.55782313, 0.64788732, 0.51693852,\n",
       "       0.782988  , 0.84536082])"
      ]
     },
     "execution_count": 72,
     "metadata": {},
     "output_type": "execute_result"
    }
   ],
   "source": [
    "f1=(2*(recalls*precisions))/(recalls+precisions)\n",
    "f1"
   ]
  },
  {
   "cell_type": "code",
   "execution_count": null,
   "id": "2ed25784",
   "metadata": {},
   "outputs": [],
   "source": []
  }
 ],
 "metadata": {
  "kernelspec": {
   "display_name": "Python 3",
   "language": "python",
   "name": "python3"
  },
  "language_info": {
   "codemirror_mode": {
    "name": "ipython",
    "version": 3
   },
   "file_extension": ".py",
   "mimetype": "text/x-python",
   "name": "python",
   "nbconvert_exporter": "python",
   "pygments_lexer": "ipython3",
   "version": "3.8.8"
  }
 },
 "nbformat": 4,
 "nbformat_minor": 5
}
